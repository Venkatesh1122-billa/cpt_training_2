{
 "cells": [
  {
   "cell_type": "code",
   "execution_count": 1,
   "id": "05960667-77c0-47a8-abe1-db3a08063870",
   "metadata": {},
   "outputs": [
    {
     "name": "stdin",
     "output_type": "stream",
     "text": [
      " 12\n"
     ]
    },
    {
     "name": "stdout",
     "output_type": "stream",
     "text": [
      "value: 30\n"
     ]
    }
   ],
   "source": [
    "# series : 0,0,7,6,14,12,21,18.........\n",
    "# finding term 't's value in series\n",
    "\n",
    "term = int(input())\n",
    "if term%2!=0:\n",
    "    val = (term//2)*7\n",
    "else:\n",
    "    val = (term//2-1)*6\n",
    "print(f\"value: {val}\")"
   ]
  },
  {
   "cell_type": "code",
   "execution_count": 21,
   "id": "40d8fe95-2e6d-4f1f-b402-d73b79b84a5e",
   "metadata": {},
   "outputs": [
    {
     "name": "stdin",
     "output_type": "stream",
     "text": [
      " 9\n"
     ]
    },
    {
     "name": "stdout",
     "output_type": "stream",
     "text": [
      "value:16\n"
     ]
    }
   ],
   "source": [
    "# series : 1,1,2,3,4,9,8,27,16.........\n",
    "# finding term 't's value in series\n",
    "term = int(input())\n",
    "if term%2==0:\n",
    "    val = 3**(term//2-1)\n",
    "else:\n",
    "    val = 2**(term//2)\n",
    "print(f\"value:{val}\")"
   ]
  },
  {
   "cell_type": "code",
   "execution_count": 11,
   "id": "dbb981eb-6b4e-4645-a226-725ac806b960",
   "metadata": {},
   "outputs": [
    {
     "name": "stdin",
     "output_type": "stream",
     "text": [
      " 5\n"
     ]
    },
    {
     "name": "stdout",
     "output_type": "stream",
     "text": [
      "* * * * * \n",
      "*       * \n",
      "*       * \n",
      "*       * \n",
      "* * * * * \n"
     ]
    }
   ],
   "source": [
    "# squre\n",
    "s = int(input())\n",
    "for i in range(s):\n",
    "    for j in range(s):\n",
    "        if i==0 or j==0 or i==s-1 or j==s-1:\n",
    "            print(\"*\",end=\" \")\n",
    "        else:\n",
    "            print(\" \",end=\" \")\n",
    "    print()\n"
   ]
  },
  {
   "cell_type": "code",
   "execution_count": 29,
   "id": "5e8ad62f-597a-42f5-9bfd-f8eeb5f5fa70",
   "metadata": {},
   "outputs": [
    {
     "name": "stdin",
     "output_type": "stream",
     "text": [
      " 7\n"
     ]
    },
    {
     "name": "stdout",
     "output_type": "stream",
     "text": [
      "* * * * * * * \n",
      "* *       * * \n",
      "*   *   *   * \n",
      "*     *     * \n",
      "*   *   *   * \n",
      "* *       * * \n",
      "* * * * * * * \n"
     ]
    }
   ],
   "source": [
    "# squre with cross\n",
    "s = int(input())\n",
    "for i in range(s):\n",
    "    for j in range(s):\n",
    "        if i==0 or j==0 or i==s-1 or j==s-1 or i==j or s-1==i+j:\n",
    "            print(\"*\",end=\" \")\n",
    "        else:\n",
    "            print(\" \",end=\" \")\n",
    "    print()\n"
   ]
  },
  {
   "cell_type": "code",
   "execution_count": 27,
   "id": "07135a60-f078-43cb-8192-f3019359781c",
   "metadata": {},
   "outputs": [
    {
     "name": "stdin",
     "output_type": "stream",
     "text": [
      " 5\n"
     ]
    },
    {
     "name": "stdout",
     "output_type": "stream",
     "text": [
      "    *     \n",
      "    *     \n",
      "* * * * * \n",
      "    *     \n",
      "    *     \n"
     ]
    }
   ],
   "source": [
    "# pluse\n",
    "s = int(input())\n",
    "for i in range(s):\n",
    "    for j in range(s):\n",
    "        if i==s//2 or j==s//2:\n",
    "            print(\"*\",end=\" \")\n",
    "        else:\n",
    "            print(\" \",end=\" \")\n",
    "    print()\n"
   ]
  },
  {
   "cell_type": "code",
   "execution_count": 67,
   "id": "ed168ce8-5217-4215-a3f3-0c0ac07b474d",
   "metadata": {},
   "outputs": [
    {
     "name": "stdin",
     "output_type": "stream",
     "text": [
      " 7\n"
     ]
    },
    {
     "name": "stdout",
     "output_type": "stream",
     "text": [
      "* * * * * * * \n",
      "  *   *   *   \n",
      "    * * *     \n",
      "      *       \n",
      "    * * *     \n",
      "  *   *   *   \n",
      "* * * * * * * \n"
     ]
    }
   ],
   "source": [
    "s = int(input())\n",
    "for i in range(s):\n",
    "    for j in range(s):\n",
    "        if i==0  or i==s-1 or i==j or s-1==i+j or j==s//2 :\n",
    "            print(\"*\",end=\" \")\n",
    "        else:\n",
    "            print(\" \",end=\" \")\n",
    "    print()\n"
   ]
  },
  {
   "cell_type": "code",
   "execution_count": 65,
   "id": "d8d14312-7a33-47ce-be27-31f937d59db8",
   "metadata": {},
   "outputs": [
    {
     "name": "stdin",
     "output_type": "stream",
     "text": [
      " 7\n"
     ]
    },
    {
     "name": "stdout",
     "output_type": "stream",
     "text": [
      "*************\n",
      " ***********\n",
      "  *********\n",
      "   *******\n",
      "    *****\n",
      "     ***\n",
      "      *\n",
      "     ***\n",
      "    *****\n",
      "   *******\n",
      "  *********\n",
      " ***********\n",
      "*************\n"
     ]
    }
   ],
   "source": [
    "n = int(input())\n",
    "totalrows = 2*n-1\n",
    "for i in range(1,totalrows+1):\n",
    "    if i<=n:\n",
    "        spaces = i-1\n",
    "        stars = 2*(n-i)+1\n",
    "    else:\n",
    "        spaces = totalrows-i\n",
    "        stars = 2*(i-n)+1\n",
    "    print(\" \"*spaces+'*'*stars)\n",
    "\n",
    "        "
   ]
  },
  {
   "cell_type": "code",
   "execution_count": 75,
   "id": "1eb1284b-e730-4a33-b2bb-2b94eddd49c1",
   "metadata": {},
   "outputs": [
    {
     "name": "stdin",
     "output_type": "stream",
     "text": [
      " 6\n"
     ]
    },
    {
     "name": "stdout",
     "output_type": "stream",
     "text": [
      "      1 \n",
      "     1 1 \n",
      "    1 2 1 \n",
      "   1 3 3 1 \n",
      "  1 4 6 4 1 \n",
      " 1 5 10 10 5 1 \n"
     ]
    }
   ],
   "source": [
    "n = int(input())\n",
    "for i in range(n):\n",
    "    print(\" \"*(n-i),end=\"\")\n",
    "    num=1\n",
    "    for j in range(i+1):\n",
    "        print(num,end=\" \")\n",
    "        num = num*(i-j)//(j+1)\n",
    "    print()"
   ]
  },
  {
   "cell_type": "code",
   "execution_count": 79,
   "id": "100a1679-3248-4cd7-ba58-704b8a499709",
   "metadata": {},
   "outputs": [
    {
     "name": "stdin",
     "output_type": "stream",
     "text": [
      " 6\n"
     ]
    },
    {
     "name": "stdout",
     "output_type": "stream",
     "text": [
      "       1 \n",
      "      1 1 \n",
      "     1 2 1 \n",
      "    1 3 3 1 \n",
      "   1 4 6 4 1 \n",
      "  1 5 10 10 5 1 \n"
     ]
    }
   ],
   "source": [
    "n = int(input())\n",
    "tri = [[0]*i for i in range(1,n+1)]\n",
    "for i in range(n):\n",
    "    tri[i][0]=1\n",
    "    tri[i][i]=1\n",
    "    for j in range(1, i):\n",
    "        tri[i][j] = tri[i-1][j-1]+tri[i-1][j]\n",
    "for i in range(n):\n",
    "    print(\" \"*(n-i), end=\" \")\n",
    "    for num in tri[i]:\n",
    "        print(num, end=\" \")\n",
    "    print()\n",
    "    "
   ]
  }
 ],
 "metadata": {
  "kernelspec": {
   "display_name": "Python 3 (ipykernel)",
   "language": "python",
   "name": "python3"
  },
  "language_info": {
   "codemirror_mode": {
    "name": "ipython",
    "version": 3
   },
   "file_extension": ".py",
   "mimetype": "text/x-python",
   "name": "python",
   "nbconvert_exporter": "python",
   "pygments_lexer": "ipython3",
   "version": "3.12.7"
  }
 },
 "nbformat": 4,
 "nbformat_minor": 5
}
