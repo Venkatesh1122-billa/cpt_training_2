{
 "cells": [
  {
   "cell_type": "markdown",
   "id": "64f80d71-384f-4dcb-871e-a66475214920",
   "metadata": {},
   "source": [
    "# Object Oriented Programming"
   ]
  },
  {
   "cell_type": "code",
   "execution_count": 375,
   "id": "2383bfa7-94e0-4662-a841-57bcab5f8078",
   "metadata": {
    "scrolled": true
   },
   "outputs": [
    {
     "name": "stdout",
     "output_type": "stream",
     "text": [
      "100 100\n",
      "This is the class method\n"
     ]
    }
   ],
   "source": [
    "class abc():\n",
    "    var = 100\n",
    "    def _display(self):\n",
    "        print(\"This is the class method\")\n",
    "\n",
    "obj = abc()\n",
    "print(obj.var,abc.var)\n",
    "obj._display()"
   ]
  },
  {
   "cell_type": "code",
   "execution_count": 376,
   "id": "29a57e44-3b48-4a2c-9060-9fce387c0080",
   "metadata": {
    "scrolled": true
   },
   "outputs": [
    {
     "name": "stdout",
     "output_type": "stream",
     "text": [
      "this is a class method.\n",
      "the value is: 66\n"
     ]
    }
   ],
   "source": [
    "# class constructor __init__(method)\n",
    "class abc():\n",
    "    def __init__(self, val):\n",
    "        print('this is a class method.')\n",
    "        self.val = val\n",
    "        print(f\"the value is: {val}\")\n",
    "\n",
    "a = abc(66)"
   ]
  },
  {
   "cell_type": "code",
   "execution_count": 377,
   "id": "8cbf83db-7c47-478f-b898-6afad214339f",
   "metadata": {
    "scrolled": true
   },
   "outputs": [
    {
     "name": "stdout",
     "output_type": "stream",
     "text": [
      "object var: 66\n",
      "class var: 1\n",
      "object var: 45\n",
      "class var: 2\n",
      "object var: 64\n",
      "class var: 3\n"
     ]
    }
   ],
   "source": [
    "# class, obj variables\n",
    "\n",
    "class Sample:\n",
    "    cv = 0\n",
    "    def __init__(self, var):\n",
    "        Sample.cv += 1\n",
    "        self.var = var\n",
    "        print(f\"object var: {var}\")\n",
    "        print(f\"class var: {Sample.cv}\")\n",
    "\n",
    "obj = Sample(66)\n",
    "obj = Sample(45)\n",
    "obj = Sample(64)"
   ]
  },
  {
   "cell_type": "markdown",
   "id": "c6f96e6e-89f3-47c9-b455-8db3e63e919e",
   "metadata": {},
   "source": [
    "**Example:**\n",
    "- code to illustrate the modification of an instance variable to check whether the passing attribute is even or odd by creating a class number and function to check even or odd."
   ]
  },
  {
   "cell_type": "code",
   "execution_count": 379,
   "id": "4be74d47-cc3c-416d-913a-1c96a6b1b29c",
   "metadata": {
    "scrolled": true
   },
   "outputs": [
    {
     "name": "stdout",
     "output_type": "stream",
     "text": [
      "66 : is even.\n"
     ]
    }
   ],
   "source": [
    "class number:\n",
    "    even:int = 0\n",
    "    def check(self,num:int):\n",
    "        if num%2==0:\n",
    "            self.even = 1\n",
    "    def eo(self,num:int):\n",
    "        self.check(num)\n",
    "        if self.even:\n",
    "            print(f\"{num} : is even.\")\n",
    "        else:\n",
    "            print(f\"{num} : is odd.\")\n",
    "\n",
    "ob = number()\n",
    "ob.eo(66)"
   ]
  },
  {
   "cell_type": "markdown",
   "id": "b44ba504-fc37-47fc-8571-9d3bf38ed9f2",
   "metadata": {},
   "source": [
    "**segregate the even and odd parameters in a list and print even list and odd list seperately using a class \"number\".**\n",
    "\n",
    "**i/p:**\n",
    "- n1=number(21)\n",
    "- n2=number(32)\n",
    "- n3=number(43)\n",
    "- n4=number(66)\n",
    "\n",
    "**o/p:**\n",
    "- even numbers: [32,66]\n",
    "- odd numbers: [21,43]"
   ]
  },
  {
   "cell_type": "code",
   "execution_count": 381,
   "id": "991475b3-d7dc-4ce5-a61c-63679f974922",
   "metadata": {
    "scrolled": true
   },
   "outputs": [
    {
     "name": "stdout",
     "output_type": "stream",
     "text": [
      "Even number:[66, 64, 44, 6, 48]\n",
      "Odd number:[45]\n"
     ]
    }
   ],
   "source": [
    "class Number:\n",
    "    even:list=[]\n",
    "    odd:list=[]\n",
    "    def __init__(self,num:int):\n",
    "        self.num = num\n",
    "        if num%2==0:\n",
    "            Number.even.append(num)\n",
    "        else:\n",
    "            Number.odd.append(num)\n",
    "    def display(self):\n",
    "        print(f'Even number:{Number.even}')\n",
    "        print(f\"Odd number:{Number.odd}\")\n",
    "\n",
    "ob = Number(66)\n",
    "ob = Number(45)\n",
    "ob = Number(64)\n",
    "ob = Number(44)\n",
    "ob = Number(6)\n",
    "ob = Number(48)\n",
    "ob.display()"
   ]
  },
  {
   "cell_type": "code",
   "execution_count": 382,
   "id": "7dab3158-2085-4a52-8044-f27578ce43cc",
   "metadata": {
    "scrolled": true
   },
   "outputs": [
    {
     "name": "stdout",
     "output_type": "stream",
     "text": [
      "object var: 66\n",
      "class var: 1\n",
      "object var: 45\n",
      "class var: 2\n",
      "object var: 64\n",
      "class var: 3\n",
      "Object with 64 is going out of scope\n",
      "Object with 66 is going out of scope\n",
      "Object with 45 is going out of scope\n"
     ]
    }
   ],
   "source": [
    "# Delete method - __del__()\n",
    "\n",
    "class Sample:\n",
    "    cv = 0\n",
    "    def __init__(self, var):\n",
    "        Sample.cv += 1\n",
    "        self.var = var\n",
    "        print(f\"object var: {var}\")\n",
    "        print(f\"class var: {Sample.cv}\")\n",
    "    def __del__(self):\n",
    "        Sample.cv-=1\n",
    "        print(f'Object with {self.var} is going out of scope')\n",
    "\n",
    "obj1 = Sample(66)\n",
    "obj2 = Sample(45)\n",
    "obj3 = Sample(64)\n",
    "del obj3\n",
    "del obj1\n",
    "del obj2"
   ]
  },
  {
   "cell_type": "code",
   "execution_count": 383,
   "id": "3f585941-557f-4030-843d-901601ee5dbd",
   "metadata": {},
   "outputs": [
    {
     "name": "stdout",
     "output_type": "stream",
     "text": [
      "I'm parent!.\n"
     ]
    }
   ],
   "source": [
    "class Hlo:\n",
    "    def __init__(self):\n",
    "        print(\"I'm parent!.\")\n",
    "class blo(Hlo):\n",
    "    pass\n",
    "\n",
    "a = blo()"
   ]
  },
  {
   "cell_type": "code",
   "execution_count": 398,
   "id": "e022514a-a103-450b-a9dd-dd40cb107c99",
   "metadata": {},
   "outputs": [
    {
     "name": "stdout",
     "output_type": "stream",
     "text": [
      "the value stored in object is : 10\n",
      "the length of name stored in object: 6\n",
      "second value is less than first.\n"
     ]
    }
   ],
   "source": [
    "\"\"\"\n",
    "__repr__(), __len__(), __cmp__()\n",
    "\"\"\"\n",
    "class abc():\n",
    "    def __init__(self, name, var):\n",
    "        self.name = name\n",
    "        self.var = var\n",
    "    def __repr__(self):\n",
    "        return repr(self.var)\n",
    "    def __len__(self):\n",
    "        return len(self.name)\n",
    "    def __cmp__(self,obj):\n",
    "        return self.var-obj.var\n",
    "\n",
    "obj = abc('abcdef', 10)\n",
    "\n",
    "print(\"the value stored in object is :\", repr(obj))\n",
    "print(\"the length of name stored in object:\", len(obj))\n",
    "\n",
    "obj1 = abc(\"ghijklm\",1)\n",
    "val = obj.__cmp__(obj1)\n",
    "\n",
    "if val==0:\n",
    "    print('Both values are equal.')\n",
    "elif val == -1:\n",
    "    print(\"First value is less then second.\")\n",
    "else:\n",
    "    print(\"second value is less than first.\")"
   ]
  },
  {
   "cell_type": "code",
   "execution_count": 406,
   "id": "817a75df-e3ea-4706-bf41-3ab5c17b26bf",
   "metadata": {},
   "outputs": [
    {
     "name": "stdout",
     "output_type": "stream",
     "text": [
      "<__main__.number object at 0x000002304F904DD0>\n",
      "[16, 22, 36, 10, 76]\n"
     ]
    }
   ],
   "source": [
    "# __getitem__(), __setitem__()\n",
    "\n",
    "class number:\n",
    "    def __init__(self, mylist):\n",
    "        self.mylist = mylist\n",
    "    def __getitem__(self, index):\n",
    "        return self.mylist[index]\n",
    "    def __setitem__(self, index, val):\n",
    "        self.mylist[index]=val\n",
    "\n",
    "numlist = number([16,22,36,66,76])\n",
    "print(numlist)\n",
    "numlist[3]=10\n",
    "print(numlist.mylist)"
   ]
  },
  {
   "cell_type": "code",
   "execution_count": null,
   "id": "c2d6be64-d15e-4434-8980-3450a41a958c",
   "metadata": {},
   "outputs": [],
   "source": []
  }
 ],
 "metadata": {
  "kernelspec": {
   "display_name": "Python 3 (ipykernel)",
   "language": "python",
   "name": "python3"
  },
  "language_info": {
   "codemirror_mode": {
    "name": "ipython",
    "version": 3
   },
   "file_extension": ".py",
   "mimetype": "text/x-python",
   "name": "python",
   "nbconvert_exporter": "python",
   "pygments_lexer": "ipython3",
   "version": "3.12.7"
  }
 },
 "nbformat": 4,
 "nbformat_minor": 5
}
