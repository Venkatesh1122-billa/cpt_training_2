{
 "cells": [
  {
   "cell_type": "code",
   "execution_count": 3,
   "id": "6448df20-60fe-4a7b-8faf-5fe19ff9b65f",
   "metadata": {},
   "outputs": [
    {
     "name": "stdout",
     "output_type": "stream",
     "text": [
      "from class method, var =  333\n"
     ]
    }
   ],
   "source": [
    "class Abc:\n",
    "    def __init__(self,var):\n",
    "        self.__var = var\n",
    "    def __display(self):\n",
    "        print('from class method, var = ',self.__var)\n",
    "\n",
    "a = Abc(333)\n",
    "a._Abc__display()\n",
    "        "
   ]
  },
  {
   "cell_type": "code",
   "execution_count": 7,
   "id": "ce51a2aa-469a-4624-8a6e-02c92fefed42",
   "metadata": {},
   "outputs": [
    {
     "name": "stdout",
     "output_type": "stream",
     "text": [
      "var is: 71\n"
     ]
    }
   ],
   "source": [
    "class Abc:\n",
    "    def __init__(self, var):\n",
    "        self.var = var\n",
    "    def display(self):\n",
    "        print(\"var is:\",self.var)\n",
    "    def add_value(self):\n",
    "        self.var+=5\n",
    "        self.display()\n",
    "\n",
    "obj = Abc(66)\n",
    "obj.add_value()"
   ]
  },
  {
   "cell_type": "code",
   "execution_count": 4,
   "id": "42f5d263-2337-4c92-96e0-eaf13cf8aa69",
   "metadata": {},
   "outputs": [
    {
     "name": "stdout",
     "output_type": "stream",
     "text": [
      "var is : 66\n",
      "var is : 660\n"
     ]
    }
   ],
   "source": [
    "# class method ,which calls a function defined in globle name space\n",
    "\n",
    "def mul(x):\n",
    "    return x*10\n",
    "\n",
    "class Abc():\n",
    "    def __init__(self, var):\n",
    "        self.var = var\n",
    "    def display(self):\n",
    "        print('var is :', self.var)\n",
    "    def modify(self):\n",
    "        self.var = mul(self.var)\n",
    "\n",
    "obj = Abc(66)\n",
    "obj.display()\n",
    "obj.modify()\n",
    "obj.display()\n"
   ]
  },
  {
   "cell_type": "markdown",
   "id": "fa8d5f51-910a-4e7d-af82-a2ce57f98e95",
   "metadata": {},
   "source": [
    "## BuiltIn functions- get() ,set() ,delete() ,getatter() ,setter() and delattr()"
   ]
  },
  {
   "cell_type": "code",
   "execution_count": 26,
   "id": "80dd58fc-2bbc-46ed-a6a1-98d5b95b1d80",
   "metadata": {},
   "outputs": [
    {
     "name": "stdout",
     "output_type": "stream",
     "text": [
      "var is :66\n",
      "obj has attribute var: True\n",
      "66\n",
      "Updated one is:45\n",
      "new variable const:3.14\n",
      "After deleting checking var availability :False\n"
     ]
    }
   ],
   "source": [
    "class Sample:\n",
    "    def __init__(self, var):\n",
    "        self.var = var\n",
    "    def display(self):\n",
    "        print(f\"var is :{self.var}\")\n",
    "\n",
    "obj = Sample(66)\n",
    "obj.display()\n",
    "print(f\"obj has attribute var: {hasattr(obj, 'var')}\")\n",
    "print(getattr(obj, 'var'))\n",
    "setattr(obj,'var',45)\n",
    "print(f\"Updated one is:{obj.var}\")\n",
    "setattr(obj, 'const', 3.14)\n",
    "print(f\"new variable const:{obj.const}\")\n",
    "delattr(obj, 'var')\n",
    "print(f\"After deleting checking var availability :{hasattr(obj,'var')}\")"
   ]
  },
  {
   "cell_type": "markdown",
   "id": "471cb0f4-3463-49eb-8d36-125d0f35e0f8",
   "metadata": {},
   "source": [
    "## Buit-in class atter \n",
    "1. __ doc __ : when string doc is not specified n returen attr\n",
    "2. __ dict __ : namespace accesed attributes\n",
    "3. __ name __ : returns class attribute name\n",
    "4. __ module __\n",
    "5. __ bases __ : inheritance "
   ]
  },
  {
   "cell_type": "code",
   "execution_count": 47,
   "id": "df51a3f5-c690-4f1e-bf7f-5c14ed302a87",
   "metadata": {},
   "outputs": [
    {
     "name": "stdout",
     "output_type": "stream",
     "text": [
      "var1:66\n",
      "var2:64.63\n",
      "Obect.__dict__:{'v1': 66, 'v2': 64.63}\n",
      "Obect.__doc__:This is a sample class\n",
      "class.__name__:Myclass\n",
      "Obect.__module__:__main__\n",
      "class.__bases__:(<class '__main__.Sample'>,)\n"
     ]
    }
   ],
   "source": [
    "class Sample:\n",
    "    pass\n",
    "\n",
    "\n",
    "class Myclass(Sample):\n",
    "    \"\"\"This is a sample class\"\"\"\n",
    "    def __init__(self, v1,v2):\n",
    "        self.v1 = v1\n",
    "        self.v2 = v2\n",
    "    def display(self):\n",
    "        print(f\"var1:{self.v1}\")\n",
    "        print(f\"var2:{self.v2}\")\n",
    "\n",
    "\n",
    "obj = Myclass(66, 64.63)\n",
    "obj.display()\n",
    "print(f\"Obect.__dict__:{obj.__dict__}\")\n",
    "print(f\"Obect.__doc__:{obj.__doc__}\")\n",
    "print(f\"class.__name__:{Myclass.__name__}\")\n",
    "print(f\"Obect.__module__:{obj.__module__}\")\n",
    "print(f\"class.__bases__:{Myclass.__bases__}\")"
   ]
  },
  {
   "cell_type": "markdown",
   "id": "cc44653a-db03-4731-873d-47d64d990eaf",
   "metadata": {},
   "source": [
    "**Program that uses class to store the name and marks of the student , use a list to store the marks of 3 subjects.**\n",
    "\n",
    "**constraints:**\n",
    "- take class as Student.\n",
    "- create a constructor for student.\n",
    "- create a function for marks, to be entered manually with in that class function and add the marks to the list.\n",
    "- Display then student name and thr marks he/she got.\n",
    "- pass the object's attributes of two student names\n",
    "  \n",
    "**Test cases**\n",
    "obj1:\"vijay\"\n",
    "obj2:\"Anil\"\n",
    "\n",
    "**Output**\n",
    "- vijay got [88, 88, 90]\n",
    "- Anil got [77, 78, 90]\n"
   ]
  },
  {
   "cell_type": "code",
   "execution_count": 60,
   "id": "8dd2b339-be4b-4fbd-9948-5662764e5673",
   "metadata": {},
   "outputs": [
    {
     "name": "stdin",
     "output_type": "stream",
     "text": [
      "Enter no of students 2\n",
      "Enter student name:  uday\n",
      "enter no of subjects: 2\n",
      " 66\n",
      " 66\n",
      "Enter student name:  hemant\n",
      "enter no of subjects: 2\n",
      " 46\n",
      " 46\n"
     ]
    },
    {
     "name": "stdout",
     "output_type": "stream",
     "text": [
      "\n",
      "outputs:\n",
      "\n",
      "uday got [66.0, 66.0]\n",
      "hemant got [46.0, 46.0]\n"
     ]
    }
   ],
   "source": [
    "class Student:\n",
    "    def __init__(self,name):\n",
    "        self.name = name\n",
    "        self.marks = []\n",
    "    def add_marks(self,mark):\n",
    "        self.marks.append(mark)\n",
    "    def display(self):\n",
    "        print(f\"{self.name} got {self.marks}\")\n",
    "\n",
    "objects = []\n",
    "objsize = int(input(\"Enter no of students\"))\n",
    "for i in range(objsize):\n",
    "    st = Student(input(\"Enter student name: \"))\n",
    "    objects.append(st)\n",
    "    sub = int(input(\"enter no of subjects:\"))\n",
    "    for j in range(sub):\n",
    "        st.add_marks(float(input()))\n",
    "\n",
    "print(\"\\noutputs:\\n\")\n",
    "for i in objects:\n",
    "    i.display()"
   ]
  },
  {
   "cell_type": "markdown",
   "id": "dc6c729c-02c6-4995-9ab3-95856dd4fd23",
   "metadata": {},
   "source": [
    "## Program that has a class circle, uses a class variable to define the value of contstant pi. use this class variable to calculate the area and curcumference of circle with specific radius.\n",
    "\n",
    "**constraints**\n",
    "- pi with the class variable as 3.141559\n",
    "- radius = x\n",
    "- return the area and circumference value to main program by creating function with in the class respectively "
   ]
  },
  {
   "cell_type": "code",
   "execution_count": 67,
   "id": "37150ad9-f90d-4a9a-804a-15611f590418",
   "metadata": {},
   "outputs": [
    {
     "name": "stdout",
     "output_type": "stream",
     "text": [
      "176.7144375\n",
      "47.12385\n"
     ]
    }
   ],
   "source": [
    "class Circle:\n",
    "    PI = 3.14159\n",
    "    def __init__(self,r):\n",
    "        self.r = r\n",
    "    def area(self):\n",
    "        return (Circle.PI)*(self.r**2)\n",
    "    def circumference(self):\n",
    "        return 2*Circle.PI*self.r\n",
    "\n",
    "\n",
    "ob1 = Circle(7.5)\n",
    "print(ob1.area())\n",
    "print(ob1.circumference())\n",
    "        "
   ]
  },
  {
   "cell_type": "code",
   "execution_count": null,
   "id": "1c80f72f-f58d-43c2-bc9a-ebbf84dfd749",
   "metadata": {},
   "outputs": [],
   "source": []
  }
 ],
 "metadata": {
  "kernelspec": {
   "display_name": "Python 3 (ipykernel)",
   "language": "python",
   "name": "python3"
  },
  "language_info": {
   "codemirror_mode": {
    "name": "ipython",
    "version": 3
   },
   "file_extension": ".py",
   "mimetype": "text/x-python",
   "name": "python",
   "nbconvert_exporter": "python",
   "pygments_lexer": "ipython3",
   "version": "3.12.7"
  }
 },
 "nbformat": 4,
 "nbformat_minor": 5
}
