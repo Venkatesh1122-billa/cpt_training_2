{
 "cells": [
  {
   "cell_type": "markdown",
   "id": "58d0b44e-ce41-4a48-8e82-b441cb0a40a7",
   "metadata": {},
   "source": [
    "# Functions :"
   ]
  },
  {
   "cell_type": "code",
   "execution_count": 7,
   "id": "19d649eb-99de-440c-80e9-4b75c279ab92",
   "metadata": {},
   "outputs": [
    {
     "name": "stdout",
     "output_type": "stream",
     "text": [
      "hello, Uday!\n"
     ]
    }
   ],
   "source": [
    "def hi(name:str)->str:\n",
    "    return f\"hello, {name}!\"\n",
    "print(hi(\"Uday\"))\n",
    "    "
   ]
  },
  {
   "cell_type": "markdown",
   "id": "267f47c7-a10d-489a-b644-9666d2936c35",
   "metadata": {},
   "source": [
    "## default parameters:"
   ]
  },
  {
   "cell_type": "code",
   "execution_count": 10,
   "id": "207211f2-fbf7-4525-ab55-7e5a7e481e00",
   "metadata": {},
   "outputs": [
    {
     "name": "stdout",
     "output_type": "stream",
     "text": [
      "5\n",
      "15\n"
     ]
    }
   ],
   "source": [
    "def mul(x:int,y:int=1)->int:\n",
    "    return x*y\n",
    "\n",
    "print(mul(5))\n",
    "print(mul(5,3))"
   ]
  },
  {
   "cell_type": "markdown",
   "id": "0e376436-e9b8-4713-8ac8-178350c66710",
   "metadata": {},
   "source": [
    "## funtion with variable args:"
   ]
  },
  {
   "cell_type": "code",
   "execution_count": 26,
   "id": "289add84-bd64-4b1d-a7f6-de2e2389e57e",
   "metadata": {},
   "outputs": [
    {
     "name": "stdout",
     "output_type": "stream",
     "text": [
      "1386\n",
      "5\n"
     ]
    }
   ],
   "source": [
    "def sumnums(*s:tuple)->int:\n",
    "    return sum(s)\n",
    "\n",
    "print(sumnums(546,7,55,778))\n",
    "\n",
    "print(sumnums(5))"
   ]
  },
  {
   "cell_type": "markdown",
   "id": "40f95f63-b595-40db-ae84-dfb0e24c7964",
   "metadata": {},
   "source": [
    "## function with keyword args:"
   ]
  },
  {
   "cell_type": "code",
   "execution_count": 34,
   "id": "20e0eefe-2c4d-4382-8b4f-96059fdcf1c3",
   "metadata": {},
   "outputs": [
    {
     "name": "stdout",
     "output_type": "stream",
     "text": [
      "name: uday\n",
      "age: 20\n",
      "city: vijayawada\n"
     ]
    }
   ],
   "source": [
    "def info(**kwargs:dict):\n",
    "    for key, value in kwargs.items():\n",
    "        print(f\"{key}: {value}\")\n",
    "\n",
    "info(name = \"uday\", age = 20, city = 'vijayawada')"
   ]
  },
  {
   "cell_type": "markdown",
   "id": "3a6fd24b-cf5f-43e4-b47d-31fb0ce64e11",
   "metadata": {},
   "source": [
    "## Lambda funtion:"
   ]
  },
  {
   "cell_type": "code",
   "execution_count": 46,
   "id": "80018951-5fb1-4a27-8079-bf44bed956a5",
   "metadata": {},
   "outputs": [
    {
     "name": "stdout",
     "output_type": "stream",
     "text": [
      "25\n",
      "132\n"
     ]
    }
   ],
   "source": [
    "sq = lambda a:a**2\n",
    "print(sq(5))\n",
    "\n",
    "add = lambda a,b:a+b\n",
    "print(add(66,66))"
   ]
  },
  {
   "cell_type": "markdown",
   "id": "1a0c0b8d-8c6a-4dd5-8e20-0b9389c23efe",
   "metadata": {},
   "source": [
    "# Exercises:"
   ]
  },
  {
   "cell_type": "markdown",
   "id": "4ac1b831-f0b0-4b3b-8a89-af23592e4c0c",
   "metadata": {},
   "source": [
    "### a. write a program to return multiple values. min,max,avg by passing 1,2,3,... to a function."
   ]
  },
  {
   "cell_type": "code",
   "execution_count": 57,
   "id": "5a142118-aba9-4ae9-823d-0207ac32ded3",
   "metadata": {},
   "outputs": [
    {
     "name": "stdout",
     "output_type": "stream",
     "text": [
      "MIN: 3, MAX: 78, AVG: 40.5\n",
      "MIN: 4, MAX: 546, AVG: 138.0\n"
     ]
    }
   ],
   "source": [
    "def do(a:list)->tuple:\n",
    "    return max(a), min(a), (sum(a)/len(a))\n",
    "\n",
    "mxv1,mnv1,avg1 = do([5,76,3,75,78,6])\n",
    "\n",
    "mxv,mnv,avg = do([546,57,78,5,4])\n",
    "\n",
    "print(f\"MIN: {mnv1}, MAX: {mxv1}, AVG: {avg1}\")\n",
    "\n",
    "print(f\"MIN: {mnv}, MAX: {mxv}, AVG: {avg}\")"
   ]
  },
  {
   "cell_type": "markdown",
   "id": "21c7239e-28bf-481e-bdd3-811b7090bb60",
   "metadata": {},
   "source": [
    "## Recurcions:\n",
    " - Direct\n",
    " - Indirect\n",
    " - Head/Non-tail\n",
    " - Tail\n",
    " - Linear\n",
    " - Binary\n",
    " - Multiple\n",
    " - Nested\n",
    " - Mutual\n",
    " - DAC(Divide and Conquer)\n",
    " - Tree\n",
    " - Absolute/Static Recursion"
   ]
  },
  {
   "cell_type": "code",
   "execution_count": 76,
   "id": "d2a3d476-c235-4ed1-93a4-441df7eb5935",
   "metadata": {},
   "outputs": [
    {
     "name": "stdout",
     "output_type": "stream",
     "text": [
      "544344939077443064003729240247842752644293064388798874532860126869671081148416000000000000000\n"
     ]
    }
   ],
   "source": [
    "# direct recursion\n",
    "\n",
    "def fact(n:int)->int:\n",
    "    if n<=1:\n",
    "        return 1\n",
    "    return n*fact(n-1)\n",
    "\n",
    "print(fact(66))"
   ]
  },
  {
   "cell_type": "code",
   "execution_count": 90,
   "id": "cf725d69-5e3b-48b0-ad40-7cb847a0d9e1",
   "metadata": {},
   "outputs": [
    {
     "name": "stdout",
     "output_type": "stream",
     "text": [
      "True\n"
     ]
    }
   ],
   "source": [
    "# indirect recursion\n",
    "\n",
    "def is_even(n:int)->int:\n",
    "    if n==0:\n",
    "        return True\n",
    "    return is_odd(n-1)\n",
    "\n",
    "def is_odd(n:int)->int:\n",
    "    if n==0:\n",
    "        return False\n",
    "    return is_even(n-1)\n",
    "\n",
    "print(is_even(8))"
   ]
  },
  {
   "cell_type": "markdown",
   "id": "28a0f38e-bb79-4f56-b811-41f2e8e6626e",
   "metadata": {},
   "source": [
    "## Exercise:\n",
    "- create a program to determine if a string is a palindrome by recursivly comparing characters from start to end by base case funtion and call if the pointer meets its constraints.\n",
    "#### def is_palindome 'length'(base case)\n",
    "#### def chectk_palindrome start,end,s\n",
    "### i/p:\n",
    "- racecar = true\n",
    "- hello = false"
   ]
  },
  {
   "cell_type": "code",
   "execution_count": 97,
   "id": "8495ece4-d371-4310-9aac-d9b54b118c9d",
   "metadata": {},
   "outputs": [
    {
     "name": "stdout",
     "output_type": "stream",
     "text": [
      "True\n",
      "False\n"
     ]
    }
   ],
   "source": [
    "def is_p(s:str)->bool:\n",
    "    if len(s)<=1:\n",
    "        return True\n",
    "    return check_palindrome(s,0,len(s)-1)\n",
    "\n",
    "\n",
    "def check_palindrome(s,start,end):\n",
    "    if start>=end:\n",
    "        return True\n",
    "    if s[start]!=s[end]:\n",
    "        return False\n",
    "    return is_p(s[start+1:end])\n",
    "\n",
    "print(is_p('racecar'))\n",
    "print(is_p(\"hello\"))\n"
   ]
  },
  {
   "cell_type": "code",
   "execution_count": 103,
   "id": "d5e91765-b9d3-4c06-a606-36c77006b38c",
   "metadata": {},
   "outputs": [
    {
     "name": "stdout",
     "output_type": "stream",
     "text": [
      "120\n"
     ]
    }
   ],
   "source": [
    "# tail recursion\n",
    "\n",
    "def ftail(n,acc=1):\n",
    "    if n==0 or n==1:\n",
    "        return acc\n",
    "    return ftail(n-1,n*acc)\n",
    "\n",
    "print(ftail(5))"
   ]
  },
  {
   "cell_type": "code",
   "execution_count": 115,
   "id": "dc9ff9f1-d333-4789-a3b5-03da4c80a5ee",
   "metadata": {},
   "outputs": [
    {
     "name": "stdout",
     "output_type": "stream",
     "text": [
      "5\n"
     ]
    }
   ],
   "source": [
    "def ackermann(m,n):\n",
    "    if m==0:\n",
    "        return n+1\n",
    "    elif m>0 and n==0:\n",
    "        return ackermann(m-1,1)\n",
    "    else:\n",
    "        return ackermann(m-1, ackermann(m,n-1))\n",
    "\n",
    "print(ackermann(2,1))"
   ]
  },
  {
   "cell_type": "code",
   "execution_count": 127,
   "id": "a70e51d3-93b1-42a9-923c-0b62e989ca65",
   "metadata": {},
   "outputs": [
    {
     "name": "stdout",
     "output_type": "stream",
     "text": [
      "countdown(3)->countdown(countdown(2))\n",
      "countdown(2)->countdown(countdown(1))\n",
      "countdown(1)->countdown(countdown(0))\n",
      "0\n"
     ]
    }
   ],
   "source": [
    "def countdown(n):\n",
    "    if n<=0:\n",
    "        return 0\n",
    "    else:\n",
    "        print(f\"countdown({n})->countdown(countdown({n-1}))\")\n",
    "        return countdown(countdown(n-1))\n",
    "\n",
    "print(countdown(3))"
   ]
  },
  {
   "cell_type": "code",
   "execution_count": 149,
   "id": "a692b973-8829-49c4-a3a2-27718283b9b2",
   "metadata": {},
   "outputs": [
    {
     "name": "stdout",
     "output_type": "stream",
     "text": [
      "288\n"
     ]
    }
   ],
   "source": [
    "# super factorial\n",
    "\n",
    "def super_fact(n:int)->int:\n",
    "    if n<=1:\n",
    "        return 1\n",
    "    return fact(n)*super_fact(n-1)\n",
    "\n",
    "def fact(n:int)->int:\n",
    "    if n<=1:\n",
    "        return 1\n",
    "    return n*fact(n-1)\n",
    "\n",
    "print(super_fact(4))"
   ]
  },
  {
   "cell_type": "code",
   "execution_count": 151,
   "id": "69625780-22a8-49f0-bdd0-ef394b6eb447",
   "metadata": {},
   "outputs": [
    {
     "name": "stdout",
     "output_type": "stream",
     "text": [
      "16\n",
      "27\n"
     ]
    }
   ],
   "source": [
    "# power tower - nested recursion\n",
    "\n",
    "def pt(a,n):\n",
    "    if n==1:\n",
    "        return a\n",
    "    return a**pt(a, n-1)\n",
    "\n",
    "print(pt(2,3))\n",
    "print(pt(3,2))"
   ]
  }
 ],
 "metadata": {
  "kernelspec": {
   "display_name": "Python 3 (ipykernel)",
   "language": "python",
   "name": "python3"
  },
  "language_info": {
   "codemirror_mode": {
    "name": "ipython",
    "version": 3
   },
   "file_extension": ".py",
   "mimetype": "text/x-python",
   "name": "python",
   "nbconvert_exporter": "python",
   "pygments_lexer": "ipython3",
   "version": "3.12.7"
  }
 },
 "nbformat": 4,
 "nbformat_minor": 5
}
