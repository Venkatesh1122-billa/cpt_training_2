{
 "cells": [
  {
   "cell_type": "code",
   "execution_count": 1,
   "id": "1e311c24-65cb-45d3-9f73-84878793af69",
   "metadata": {},
   "outputs": [
    {
     "name": "stdout",
     "output_type": "stream",
     "text": [
      "Base Class-2\n",
      "Base Class-1\n",
      "derived class from both classes\n"
     ]
    }
   ],
   "source": [
    "class base1(object):\n",
    "    def __init__(self):\n",
    "        super(base1,self).__init__()\n",
    "        print(\"Base Class-1\")\n",
    "class base2(object):\n",
    "    def __init__(self):\n",
    "        super(base2,self).__init__()\n",
    "        print(\"Base Class-2\")\n",
    "class derived(base1,base2):\n",
    "    def __init__(self):\n",
    "        super(derived,self).__init__()\n",
    "        print(\"derived class from both classes\")\n",
    "d=derived()"
   ]
  },
  {
   "cell_type": "markdown",
   "id": "40ef5225-2244-42d4-af45-07ecd3bf36af",
   "metadata": {},
   "source": [
    "## Intialize classes addition , multiplication in a calculator pass the values from progrom to the super class where the subclass addition and multiplication were triggered and returs thr output respectively\n",
    "\n",
    "**Constraints:**\n",
    "1. take derived class calc\n",
    "2. from derived class call subclass add and mul\n",
    "3. return the values after math to the objects\n",
    "4. manual values of f both numbers considered within the obj"
   ]
  },
  {
   "cell_type": "code",
   "execution_count": 11,
   "id": "b86bb263-1f5e-4461-bf20-4051fd58cebc",
   "metadata": {},
   "outputs": [
    {
     "name": "stdin",
     "output_type": "stream",
     "text": [
      "Enter a: 4\n",
      "Enter b: 5\n"
     ]
    },
    {
     "name": "stdout",
     "output_type": "stream",
     "text": [
      "Addition is also intitalized by reciving a, b form obj\n",
      "Multiplication is also intitalized by reciving a, b form obj\n",
      "calc class initialized.\n",
      "Product: 20\n",
      "Addition: 9\n"
     ]
    }
   ],
   "source": [
    "class Addition:\n",
    "    def __init__(self, a, b):\n",
    "        self.a = a\n",
    "        self.b = b\n",
    "        print(f\"Addition is also intitalized by reciving a, b form obj\")\n",
    "    def add(self):\n",
    "        return self.a+self.b\n",
    "\n",
    "class Multiplication:\n",
    "    def __init__(self,a,b):\n",
    "        self.a = a\n",
    "        self.b = b\n",
    "        print(f\"Multiplication is also intitalized by reciving a, b form obj\")\n",
    "    def mul(self):\n",
    "        return self.a*self.b\n",
    "\n",
    "class calc(Addition, Multiplication):\n",
    "    def __init__(self,a,b):\n",
    "        Addition.__init__(self, a, b)\n",
    "        Multiplication.__init__(self, a, b)\n",
    "        print(\"calc class initialized.\")\n",
    "\n",
    "x = int(input(\"Enter a:\"))\n",
    "y = int(input(\"Enter b:\"))\n",
    "c = calc(x, y)\n",
    "\n",
    "print(\"Product:\",c.mul())\n",
    "print(\"Addition:\",c.add())"
   ]
  },
  {
   "cell_type": "code",
   "execution_count": 22,
   "id": "5c1cc607-c835-484d-b3af-373a2f46f948",
   "metadata": {},
   "outputs": [
    {
     "name": "stdin",
     "output_type": "stream",
     "text": [
      "Enter a: 4\n"
     ]
    },
    {
     "name": "stdout",
     "output_type": "stream",
     "text": [
      "80\n"
     ]
    }
   ],
   "source": [
    "class base1(object):\n",
    "    def __init__(self,a):\n",
    "        self.a = a\n",
    "    def cube(self):\n",
    "        return self.a**3\n",
    "class base2(object):\n",
    "    def __init__(self,a):\n",
    "        self.a = a\n",
    "    def square(self):\n",
    "        return self.a**2\n",
    "class derived(base1,base2):\n",
    "    def __init__(self,a):\n",
    "        base1.__init__(self, a)\n",
    "        base2.__init__(self, a)\n",
    "    def sum(self):\n",
    "        return self.cube()+self.square()\n",
    "\n",
    "        \n",
    "a = int(input(\"Enter a:\"))\n",
    "d = derived(a)\n",
    "\n",
    "print(d.sum())\n"
   ]
  },
  {
   "cell_type": "code",
   "execution_count": 23,
   "id": "8407b6b4-64d8-475a-afb3-5023a055ba08",
   "metadata": {},
   "outputs": [
    {
     "name": "stdout",
     "output_type": "stream",
     "text": [
      "name...\n",
      "Phd\n",
      "experience....15 years\n"
     ]
    }
   ],
   "source": [
    "# multi-level inheritance\n",
    "class person:\n",
    "    def name(self):\n",
    "        print('name...')\n",
    "class teacher(person):\n",
    "    def qualification(self):\n",
    "        print('Phd')\n",
    "class hod(teacher):\n",
    "    def exp(self):\n",
    "        print(\"experience....15 years\")\n",
    "head=hod()\n",
    "head.name()\n",
    "head.qualification()\n",
    "head.exp()\n"
   ]
  },
  {
   "cell_type": "code",
   "execution_count": 3,
   "id": "a2450d46-e91f-40b8-83a5-3f9422c263f5",
   "metadata": {},
   "outputs": [
    {
     "name": "stdin",
     "output_type": "stream",
     "text": [
      "enter a: 5\n"
     ]
    },
    {
     "name": "stdout",
     "output_type": "stream",
     "text": [
      "Number initialized\n",
      "Square: 25\n",
      "cubing afer squring: 15625\n"
     ]
    }
   ],
   "source": [
    "# multi-level inheritance cube and squres of an obj\n",
    "\n",
    "class num:\n",
    "    def __init__(self, a):\n",
    "        self.n = a\n",
    "        print(\"Number initialized\")\n",
    "\n",
    "class sq(num):\n",
    "    def square(self):\n",
    "        self.n = self.n**2\n",
    "        return self.n\n",
    "\n",
    "class cu(sq):\n",
    "    def cube(self):\n",
    "        return self.n**3\n",
    "\n",
    "a = int(input('enter a:'))\n",
    "ob = cu(a)\n",
    "print(f\"Square: {ob.square()}\")\n",
    "print(f\"cubing afer squring: {ob.cube()}\")"
   ]
  },
  {
   "cell_type": "code",
   "execution_count": 2,
   "id": "9d113cf3-3fd4-4f6f-af91-2c4c8ca5f897",
   "metadata": {},
   "outputs": [
    {
     "name": "stdout",
     "output_type": "stream",
     "text": [
      "double: 8\n",
      "triple: 12\n"
     ]
    }
   ],
   "source": [
    "class number:\n",
    "    def __init__(self, n):\n",
    "        self.n = n\n",
    "    def get_number(self):\n",
    "        return self.n\n",
    "\n",
    "class double(number):\n",
    "    def result(self):\n",
    "        return self.get_number()*2\n",
    "\n",
    "class triple(number):\n",
    "    def result(self):\n",
    "        return self.get_number()*3\n",
    "d = double(4)\n",
    "print(f\"double: {d.result()}\")\n",
    "t=triple(4)\n",
    "print(f\"triple: {t.result()}\")"
   ]
  },
  {
   "cell_type": "code",
   "execution_count": 4,
   "id": "ab89e75c-db66-47e5-98c7-0c9a9b3fedc9",
   "metadata": {},
   "outputs": [
    {
     "name": "stdout",
     "output_type": "stream",
     "text": [
      "sweet Vitamin-A Yelllow\n",
      "sweet & sour Vitamin-c Orange\n"
     ]
    }
   ],
   "source": [
    "# abstract class\n",
    "\n",
    "class fruit:\n",
    "    def taste(self):\n",
    "        raise NotImplementedError()\n",
    "    def vitamin(self):\n",
    "        raise NotImplementedError()\n",
    "    def color(self):\n",
    "        raise NotImplementedError()\n",
    "    \n",
    "\n",
    "class mango(fruit):\n",
    "    def taste(self):\n",
    "        return 'sweet'\n",
    "    def vitamin(self):\n",
    "        return 'Vitamin-A'\n",
    "    def color(self):\n",
    "        return 'Yelllow'\n",
    "\n",
    "class orange(fruit):\n",
    "    def taste(self):\n",
    "        return 'sweet & sour'\n",
    "    def vitamin(self):\n",
    "        return 'Vitamin-c'\n",
    "    def color(self):\n",
    "        return 'Orange'\n",
    "\n",
    "Alphonso = mango()\n",
    "print(Alphonso.taste(),Alphonso.vitamin(), Alphonso.color())\n",
    "\n",
    "org = orange()\n",
    "print(org.taste(),org.vitamin(), org.color())"
   ]
  },
  {
   "cell_type": "code",
   "execution_count": null,
   "id": "b4ef3f06-94a0-45f1-a7ab-fc95935a3602",
   "metadata": {},
   "outputs": [],
   "source": []
  }
 ],
 "metadata": {
  "kernelspec": {
   "display_name": "Python 3 (ipykernel)",
   "language": "python",
   "name": "python3"
  },
  "language_info": {
   "codemirror_mode": {
    "name": "ipython",
    "version": 3
   },
   "file_extension": ".py",
   "mimetype": "text/x-python",
   "name": "python",
   "nbconvert_exporter": "python",
   "pygments_lexer": "ipython3",
   "version": "3.12.7"
  }
 },
 "nbformat": 4,
 "nbformat_minor": 5
}
