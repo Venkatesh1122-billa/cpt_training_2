{
 "cells": [
  {
   "cell_type": "markdown",
   "id": "b873a381-b33b-43f5-8638-9656803b65ac",
   "metadata": {},
   "source": [
    "# Errors and Exceptions:\n",
    "- types of errors / exceptions\n",
    "- try-block\n",
    "- except\n",
    "- finally\n",
    "- builti-in function"
   ]
  },
  {
   "cell_type": "code",
   "execution_count": 28,
   "id": "1101022b-c280-424d-a0f3-22f0bec08095",
   "metadata": {
    "scrolled": true
   },
   "outputs": [
    {
     "data": {
      "text/plain": [
       "\"\\na = int('a')\\n\""
      ]
     },
     "execution_count": 28,
     "metadata": {},
     "output_type": "execute_result"
    }
   ],
   "source": [
    "# ZeroDivisio error\n",
    "'''a = int(input())\n",
    "b = int(input())\n",
    "c = a/b\n",
    "print(c,d)'''\n",
    "\n",
    "# name error\n",
    "'''\n",
    "print(d)\n",
    "'''\n",
    "\n",
    "#value error\n",
    "'''\n",
    "a = int('a')\n",
    "'''"
   ]
  },
  {
   "cell_type": "code",
   "execution_count": 38,
   "id": "baa44bfe-5db0-4c2f-aa85-cdb6d77e47cb",
   "metadata": {
    "scrolled": true
   },
   "outputs": [
    {
     "name": "stdin",
     "output_type": "stream",
     "text": [
      " 6\n",
      " 0\n"
     ]
    },
    {
     "name": "stdout",
     "output_type": "stream",
     "text": [
      "division by zero\n"
     ]
    }
   ],
   "source": [
    "try:\n",
    "    a = int(input())\n",
    "    b = int(input())\n",
    "    c = a/b\n",
    "    print(c,d)\n",
    "except ZeroDivisionError as e:\n",
    "    print(e)\n",
    "except ValueError as e:\n",
    "    print(e)"
   ]
  },
  {
   "cell_type": "code",
   "execution_count": 82,
   "id": "997e8b7c-eb8a-4590-9d6a-3a87f76c8347",
   "metadata": {
    "scrolled": true
   },
   "outputs": [
    {
     "name": "stdin",
     "output_type": "stream",
     "text": [
      "Enter a num: 6\n"
     ]
    },
    {
     "name": "stdout",
     "output_type": "stream",
     "text": [
      "36\n"
     ]
    }
   ],
   "source": [
    "# multiple errors handling in an except block \n",
    "\n",
    "try:\n",
    "    num=int(input('Enter a num:'))\n",
    "    print(int(num**2))\n",
    "except (KeyboardInterrupt, NameError, ValueError, TypeError) as e:\n",
    "    print('Error: ',e)"
   ]
  },
  {
   "cell_type": "code",
   "execution_count": 58,
   "id": "47a8bec7-246a-448a-b1cf-df72a84e72f0",
   "metadata": {
    "scrolled": true
   },
   "outputs": [
    {
     "name": "stdout",
     "output_type": "stream",
     "text": [
      "66\n",
      "Error Raised ,even executing perfectly\n"
     ]
    }
   ],
   "source": [
    "# raise an exception\n",
    "\n",
    "try:\n",
    "    num = 66\n",
    "    print(num)\n",
    "    raise ValueError\n",
    "except:\n",
    "    print(\"Error Raised ,even executing perfectly\")"
   ]
  },
  {
   "cell_type": "code",
   "execution_count": 62,
   "id": "f2913f33-5ab9-43be-b7d3-d781e2e28ff9",
   "metadata": {
    "scrolled": true
   },
   "outputs": [
    {
     "name": "stdout",
     "output_type": "stream",
     "text": [
      "re-raise\n"
     ]
    },
    {
     "ename": "NameError",
     "evalue": "",
     "output_type": "error",
     "traceback": [
      "\u001b[1;31m---------------------------------------------------------------------------\u001b[0m",
      "\u001b[1;31mNameError\u001b[0m                                 Traceback (most recent call last)",
      "Cell \u001b[1;32mIn[62], line 4\u001b[0m\n\u001b[0;32m      1\u001b[0m \u001b[38;5;66;03m# Re-=raise a error\u001b[39;00m\n\u001b[0;32m      3\u001b[0m \u001b[38;5;28;01mtry\u001b[39;00m:\n\u001b[1;32m----> 4\u001b[0m     \u001b[38;5;28;01mraise\u001b[39;00m \u001b[38;5;167;01mNameError\u001b[39;00m\n\u001b[0;32m      5\u001b[0m \u001b[38;5;28;01mexcept\u001b[39;00m:\n\u001b[0;32m      6\u001b[0m     \u001b[38;5;28mprint\u001b[39m(\u001b[38;5;124m'\u001b[39m\u001b[38;5;124mre-raise\u001b[39m\u001b[38;5;124m'\u001b[39m)\n",
      "\u001b[1;31mNameError\u001b[0m: "
     ]
    }
   ],
   "source": [
    "# Re-=raise a error\n",
    "\n",
    "try:\n",
    "    raise NameError\n",
    "except:\n",
    "    print('re-raise')\n",
    "    raise"
   ]
  },
  {
   "cell_type": "code",
   "execution_count": 74,
   "id": "32398fde-318f-450f-b538-d71f9ac83651",
   "metadata": {
    "scrolled": true
   },
   "outputs": [
    {
     "name": "stdout",
     "output_type": "stream",
     "text": [
      "<class 'Exception'>\n",
      "('hi', 'uday')\n",
      "('hi', 'uday')\n",
      "Assigned1: hi\n",
      "Assigned: uday\n"
     ]
    }
   ],
   "source": [
    "# instance using in exception\n",
    "\n",
    "try:\n",
    "    raise Exception('hi', 'uday')\n",
    "except Exception as errorObj:\n",
    "    print(type(errorObj))\n",
    "    print(errorObj.args)\n",
    "    print(errorObj)\n",
    "    x, y = errorObj.args\n",
    "    print('Assigned1:',x)\n",
    "    print('Assigned:',y)"
   ]
  },
  {
   "cell_type": "code",
   "execution_count": 98,
   "id": "b8ecce28-652d-4831-a4b8-1b8276ba4490",
   "metadata": {},
   "outputs": [
    {
     "name": "stdin",
     "output_type": "stream",
     "text": [
      "enter a number: 6\n",
      "enter a number: 0\n"
     ]
    },
    {
     "name": "stdout",
     "output_type": "stream",
     "text": [
      "non-processed\n"
     ]
    }
   ],
   "source": [
    "def div(a, d):\n",
    "    try:\n",
    "        d = a/d\n",
    "    except ZeroDivisionError:\n",
    "        print('non-processed')\n",
    "\n",
    "a = int(input('enter a number:'))\n",
    "b = int(input('enter a number:'))\n",
    "div(a,b)"
   ]
  },
  {
   "cell_type": "markdown",
   "id": "44a5bffd-9bc6-49c9-98a6-48a0c540a318",
   "metadata": {},
   "source": [
    "\n",
    "# Exception base class / allexceptions\n",
    "- SystemExit- sys.exit()\n",
    "- StandardError - except sys.exit() / StopIteration\n",
    "- OverflowError - numeric type error exceeds limit\n",
    "- ArthemeticError - base class for all calc\n",
    "- IdError - import file error\n",
    "- StopIterationError\n",
    "- EOFError\n",
    "- SyntaxError\n",
    "- SystemError\n",
    "- LookupError\n",
    "- Indentstion Error"
   ]
  },
  {
   "cell_type": "code",
   "execution_count": 112,
   "id": "c6e6906f-ad29-46f4-8369-4bac4050e6db",
   "metadata": {},
   "outputs": [
    {
     "name": "stdout",
     "output_type": "stream",
     "text": [
      "Error: 99\n",
      "<class 'int'>\n"
     ]
    }
   ],
   "source": [
    "class myError(Exception):\n",
    "    def __init__(self,value):\n",
    "        self.value = value\n",
    "    def __str__(self):\n",
    "        return repr(self.value)\n",
    "\n",
    "try:\n",
    "    raise myError(99)\n",
    "except myError as e:\n",
    "    print('Error:',e)\n",
    "    print(type(e.value))\n",
    "    "
   ]
  },
  {
   "cell_type": "code",
   "execution_count": 1,
   "id": "e18628c6-a311-431e-9111-af0aa031bc03",
   "metadata": {},
   "outputs": [
    {
     "name": "stdout",
     "output_type": "stream",
     "text": [
      "abc\n",
      "123\n",
      "abc123\n"
     ]
    }
   ],
   "source": [
    "# finally\n",
    "\n",
    "try:\n",
    "    print('abc')\n",
    "    raise ValueError\n",
    "except:\n",
    "    print('123')\n",
    "finally:\n",
    "    print('abc123')"
   ]
  },
  {
   "cell_type": "code",
   "execution_count": 11,
   "id": "f392e6de-b1b7-4d25-904d-275c107f068f",
   "metadata": {},
   "outputs": [],
   "source": [
    "# intractive calc model with python operatio\n",
    "'''using class exception module'''\n",
    "def main():\n",
    "    calc = Calculator()\n",
    "    while True:\n",
    "        display_menu()\n",
    "        choice = input('select an operation (1-8):')\n",
    "        if choice == '8':\n",
    "            print('Exit')\n",
    "            break\n",
    "        calc.input_numbers()\n",
    "        try:\n",
    "            if choice == '1':\n",
    "                print(\"Result:\", clac.add())\n",
    "            elif choice == '2':\n",
    "                print('Result:',calc.subtract())\n",
    "            elif choice == '3':\n",
    "                print('Result:',calc.multiply())\n",
    "            elif choice == '4':\n",
    "                print('Result:', calc.divid())\n",
    "            elif choice == '5' :\n",
    "                print('Result:',calc.modulo())\n",
    "            elif choice == '6' :\n",
    "                print('Result:',calc.expo())\n",
    "            elif choice == '7' :\n",
    "                print('Result:',calc.floor_divid())\n",
    "        except (ZeroDivisionError,ValueError ) as e:\n",
    "            print('Error',e)\n",
    "        except Exception as e:\n",
    "            print('Unexpected Error:',e)\n",
    "\n"
   ]
  },
  {
   "cell_type": "code",
   "execution_count": 13,
   "id": "e881d679-1456-49b8-affe-4d9c52fc2ae0",
   "metadata": {},
   "outputs": [
    {
     "name": "stdout",
     "output_type": "stream",
     "text": [
      "\n",
      "===== Calculator Menu =====\n",
      "\n",
      "1. Addition(+)\n",
      "2. Subtraction(-)\n",
      "3. Multiply(*)\n",
      "4. Divide(/)\n",
      "5. Modulo(%)\n",
      "6. Expo(**)\n",
      "7. floor division\n"
     ]
    },
    {
     "name": "stdin",
     "output_type": "stream",
     "text": [
      "select an operation (1-8): 4\n",
      "Enter 1st number: 5\n",
      "Enter 2nd number: 6\n"
     ]
    },
    {
     "name": "stdout",
     "output_type": "stream",
     "text": [
      "Result: 0.8333333333333334\n",
      "\n",
      "===== Calculator Menu =====\n",
      "\n",
      "1. Addition(+)\n",
      "2. Subtraction(-)\n",
      "3. Multiply(*)\n",
      "4. Divide(/)\n",
      "5. Modulo(%)\n",
      "6. Expo(**)\n",
      "7. floor division\n"
     ]
    },
    {
     "name": "stdin",
     "output_type": "stream",
     "text": [
      "select an operation (1-8): 2\n",
      "Enter 1st number: 5\n",
      "Enter 2nd number: 6\n"
     ]
    },
    {
     "name": "stdout",
     "output_type": "stream",
     "text": [
      "Result: -1.0\n",
      "\n",
      "===== Calculator Menu =====\n",
      "\n",
      "1. Addition(+)\n",
      "2. Subtraction(-)\n",
      "3. Multiply(*)\n",
      "4. Divide(/)\n",
      "5. Modulo(%)\n",
      "6. Expo(**)\n",
      "7. floor division\n"
     ]
    },
    {
     "name": "stdin",
     "output_type": "stream",
     "text": [
      "select an operation (1-8): 8\n"
     ]
    },
    {
     "name": "stdout",
     "output_type": "stream",
     "text": [
      "Exit\n"
     ]
    }
   ],
   "source": [
    "class Calculator:\n",
    "    def __init__(self):\n",
    "        self.one = 0\n",
    "        self.two = 0\n",
    "    def input_numbers(self):\n",
    "        try:\n",
    "            self.one = float(input('Enter 1st number:'))\n",
    "            self.two = float(input('Enter 2nd number:'))\n",
    "        except ValueError:\n",
    "            print('----Invalid Input----\\n ----Please enter umbers----')\n",
    "    def add(self):\n",
    "        return self.one+self.two\n",
    "\n",
    "    def subtract(self):\n",
    "        return self.one-self.two\n",
    "\n",
    "    def multiply(self):\n",
    "        return self.one*self.two\n",
    "\n",
    "    def divid(self):\n",
    "        if self.two==0:\n",
    "            raise ZerodivisionError('cannot divid with zero')\n",
    "        return self.one/self.two\n",
    "\n",
    "    def modulo(self):\n",
    "        return self.one%self.two\n",
    "\n",
    "    def expo(self):\n",
    "        return self.one**self.two\n",
    "\n",
    "    def floor_div(self):\n",
    "        return self.one//self.two\n",
    "\n",
    "def display_menu():\n",
    "    print('\\n===== Calculator Menu =====\\n')\n",
    "    print('1. Addition(+)')\n",
    "    print('2. Subtraction(-)')\n",
    "    print('3. Multiply(*)')\n",
    "    print('4. Divide(/)')\n",
    "    print('5. Modulo(%)')\n",
    "    print('6. Expo(**)')\n",
    "    print('7. floor division')\n",
    "    \n",
    "\n",
    "main()"
   ]
  },
  {
   "cell_type": "code",
   "execution_count": null,
   "id": "001bf966-931d-43fb-ba8e-6c101510abed",
   "metadata": {},
   "outputs": [],
   "source": []
  }
 ],
 "metadata": {
  "kernelspec": {
   "display_name": "Python 3 (ipykernel)",
   "language": "python",
   "name": "python3"
  },
  "language_info": {
   "codemirror_mode": {
    "name": "ipython",
    "version": 3
   },
   "file_extension": ".py",
   "mimetype": "text/x-python",
   "name": "python",
   "nbconvert_exporter": "python",
   "pygments_lexer": "ipython3",
   "version": "3.12.7"
  }
 },
 "nbformat": 4,
 "nbformat_minor": 5
}
